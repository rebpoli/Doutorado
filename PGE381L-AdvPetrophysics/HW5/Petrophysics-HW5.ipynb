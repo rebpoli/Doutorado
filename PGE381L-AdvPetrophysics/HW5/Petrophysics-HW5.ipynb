{
 "cells": [
  {
   "cell_type": "code",
   "execution_count": 32,
   "id": "1dd446fd-df90-4de5-8cdb-79e510784ccd",
   "metadata": {},
   "outputs": [
    {
     "data": {
      "text/plain": [
       "1.0708244547874353"
      ]
     },
     "execution_count": 32,
     "metadata": {},
     "output_type": "execute_result"
    }
   ],
   "source": [
    "import numpy as np\n",
    "from numpy import array as M\n",
    "import numpy.linalg as linalg\n",
    "\n",
    "k = M([ [ 70, 20] , [ 20 , 50 ] ])\n",
    "pot = M([ 0.3, 0.2 ])\n",
    "\n",
    "linalg.norm(k @ pot )\n",
    "\n",
    "#np.arccos( 16/25 ) *180/np.pi\n",
    "\n",
    "\n",
    "v = k @ pot \n",
    "alpha = ( v @ pot ) / linalg.norm(v) / linalg.norm(pot)\n",
    "np.arccos(alpha) * 180 / np.pi"
   ]
  },
  {
   "cell_type": "code",
   "execution_count": 39,
   "id": "c4858062-ac2f-478f-a178-d9ff730f2d07",
   "metadata": {},
   "outputs": [
    {
     "data": {
      "text/plain": [
       "32.61924307119281"
      ]
     },
     "execution_count": 39,
     "metadata": {},
     "output_type": "execute_result"
    }
   ],
   "source": [
    "a = -.025\n",
    "b=-.016\n",
    "\n",
    "np.arctan2(b,a) *180/np.pi + 180\n"
   ]
  },
  {
   "cell_type": "code",
   "execution_count": 56,
   "id": "effd920f-8878-4a42-a8a8-caaec7824d7f",
   "metadata": {},
   "outputs": [
    {
     "data": {
      "text/plain": [
       "31.71747441146099"
      ]
     },
     "execution_count": 56,
     "metadata": {},
     "output_type": "execute_result"
    }
   ],
   "source": [
    "l = np.sqrt(120**2-4*3100)\n",
    "\n",
    "l1 = ( 120 - l ) /2\n",
    "l2 = ( 120 + l ) /2\n",
    "\n",
    "l1, l2\n",
    "\n",
    "(70-l1)/20\n",
    "vy=(70-l2)/20\n",
    "aa = 1/(np.sqrt(vy**2+1))\n",
    "np.arccos(aa)*180/np.pi"
   ]
  },
  {
   "cell_type": "code",
   "execution_count": 84,
   "id": "4f3decf4-351a-4539-9672-eba36f4c5abb",
   "metadata": {},
   "outputs": [
    {
     "name": "stdout",
     "output_type": "stream",
     "text": [
      "0.0144\n",
      "K1:1.0259e+03D\n",
      "K2:1.6415e+04D\n"
     ]
    },
    {
     "data": {
      "text/plain": [
       "0.0288"
      ]
     },
     "execution_count": 84,
     "metadata": {},
     "output_type": "execute_result"
    }
   ],
   "source": [
    "a=3**2+4*1.5**2\n",
    "\n",
    "p1 = 3/2*3/2/625\n",
    "p2 = 3*3/625\n",
    "print(p2)\n",
    "por=a/625\n",
    "m2d = 9.869233e-13\n",
    "\n",
    "r1=1.5*1e-3\n",
    "k1=p1*r1**2/8\n",
    "print(f\"K1:{k1/m2d:.4e}D\")\n",
    "\n",
    "r2=3*1e-3\n",
    "k2=p2*r2**2/8\n",
    "print(f\"K2:{k2/m2d:.4e}D\")\n",
    "\n",
    "k=4*k1+k2\n",
    "k/m2d\n",
    "\n",
    "4*2*1.5/625+2*3/625"
   ]
  }
 ],
 "metadata": {
  "kernelspec": {
   "display_name": "Python 3",
   "language": "python",
   "name": "python3"
  },
  "language_info": {
   "codemirror_mode": {
    "name": "ipython",
    "version": 3
   },
   "file_extension": ".py",
   "mimetype": "text/x-python",
   "name": "python",
   "nbconvert_exporter": "python",
   "pygments_lexer": "ipython3",
   "version": "3.9.7"
  }
 },
 "nbformat": 4,
 "nbformat_minor": 5
}
