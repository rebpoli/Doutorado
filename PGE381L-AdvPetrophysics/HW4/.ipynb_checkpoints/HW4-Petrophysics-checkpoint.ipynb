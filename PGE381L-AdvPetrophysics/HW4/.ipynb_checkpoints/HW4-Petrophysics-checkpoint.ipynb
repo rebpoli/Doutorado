{
 "cells": [
  {
   "cell_type": "code",
   "execution_count": null,
   "id": "abaf5fc5-2ebe-4113-b7a8-5622258e618c",
   "metadata": {},
   "outputs": [],
   "source": [
    "import numpy as np\n",
    "from numpy import log as ln\n",
    "import pandas as pd"
   ]
  },
  {
   "cell_type": "code",
   "execution_count": null,
   "id": "81775baf-0214-46d0-81d2-d2ca95f00321",
   "metadata": {},
   "outputs": [],
   "source": [
    "\n",
    "df = pd.DataFrame(\n",
    "    { 't': [0,100,500,1000,2000,3000,4000,5000],\n",
    "      'h': [100, 96.1, 82, 67,45, 30, 20, 13.5]\n",
    "    })\n",
    "\n",
    "h0 = 100\n",
    "df['lnh'] = ln(df.h/h0)\n",
    "\n",
    "r = 1/2\n",
    "R = 5/2\n",
    "rho = 1.02\n",
    "g = 981\n",
    "L=10\n",
    "mu = 1\n",
    "\n",
    "\n",
    "from scipy.stats import linregress as linreg\n",
    "sl = linreg(df.t, df.lnh).slope\n",
    "\n",
    "CNT = 1e-6/9.869233E-13\n",
    "Kavg = - CNT * mu * r**2 / R**2 * L / rho / g * sl\n",
    "\n",
    "print(f\"Permeability: {Kavg:.3f} D\")\n",
    "\n",
    "import matplotlib.pyplot as plt\n",
    "plt.plot(df.t, df.lnh)\n"
   ]
  }
 ],
 "metadata": {
  "kernelspec": {
   "display_name": "Python 3",
   "language": "python",
   "name": "python3"
  },
  "language_info": {
   "codemirror_mode": {
    "name": "ipython",
    "version": 3
   },
   "file_extension": ".py",
   "mimetype": "text/x-python",
   "name": "python",
   "nbconvert_exporter": "python",
   "pygments_lexer": "ipython3",
   "version": "3.9.7"
  }
 },
 "nbformat": 4,
 "nbformat_minor": 5
}
