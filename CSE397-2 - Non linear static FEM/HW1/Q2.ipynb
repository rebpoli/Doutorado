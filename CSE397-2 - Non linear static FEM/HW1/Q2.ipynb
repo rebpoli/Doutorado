{
 "cells": [
  {
   "cell_type": "code",
   "execution_count": 1,
   "id": "b602cf6e-26e3-4cd7-90f1-396ec9c991c2",
   "metadata": {},
   "outputs": [],
   "source": [
    "import sympy\n",
    "\n",
    "def rat(expr):\n",
    "    for i in expr.atoms(sympy.Float):\n",
    "        r = sympy.Rational(str(i)).limit_denominator(1000)\n",
    "        expr = expr.subs(i, r)\n",
    "    return expr\n"
   ]
  },
  {
   "cell_type": "code",
   "execution_count": 2,
   "id": "77730f39-af61-4f10-89e6-6da4296475a9",
   "metadata": {},
   "outputs": [
    {
     "data": {
      "text/markdown": [
       "$N_1 = 0.5 \\xi \\left(\\xi - 1\\right)$"
      ],
      "text/plain": [
       "<IPython.core.display.Markdown object>"
      ]
     },
     "metadata": {},
     "output_type": "display_data"
    },
    {
     "data": {
      "text/markdown": [
       "$N_2 = 1 - \\xi^{2}$"
      ],
      "text/plain": [
       "<IPython.core.display.Markdown object>"
      ]
     },
     "metadata": {},
     "output_type": "display_data"
    },
    {
     "data": {
      "text/markdown": [
       "$N_3 = 0.5 \\xi \\left(\\xi + 1\\right)$"
      ],
      "text/plain": [
       "<IPython.core.display.Markdown object>"
      ]
     },
     "metadata": {},
     "output_type": "display_data"
    }
   ],
   "source": [
    "from IPython.display import display, Markdown\n",
    "import sympy\n",
    "from sympy import *\n",
    "import numpy as np\n",
    "x, xi, u = symbols(r'x \\xi u', real=True)\n",
    "d1, d2, d3 = symbols(r'd_1 d_2 d_3', real=True)\n",
    "\n",
    "Xi = [ -1/sqrt(3), 1/sqrt(3) ]\n",
    "W = [ 1, 1 ]\n",
    "\n",
    "kappa = Function(r\"K\")(xi)\n",
    "dkappa_du = Function(r\"K_{,u}\")(xi)\n",
    "\n",
    "Na = [\n",
    "1/2*xi*(xi-1),\n",
    "1-xi*xi,\n",
    "1/2*xi*(xi+1)\n",
    "]\n",
    "\n",
    "display( Markdown( f\"$N_1 = {sympy.latex(Na[0])}$\" ))\n",
    "display( Markdown( f\"$N_2 = {sympy.latex(Na[1])}$\" ))\n",
    "display( Markdown( f\"$N_3 = {sympy.latex(Na[2])}$\" ))"
   ]
  },
  {
   "cell_type": "code",
   "execution_count": 3,
   "id": "de1f95aa-a3d0-4b8f-a7ae-dcdd76ef910a",
   "metadata": {},
   "outputs": [
    {
     "data": {
      "text/markdown": [
       "$dN_1/d\\xi = 1.0 \\xi - 0.5$"
      ],
      "text/plain": [
       "<IPython.core.display.Markdown object>"
      ]
     },
     "metadata": {},
     "output_type": "display_data"
    },
    {
     "data": {
      "text/markdown": [
       "$dN_2/d\\xi = - 2 \\xi$"
      ],
      "text/plain": [
       "<IPython.core.display.Markdown object>"
      ]
     },
     "metadata": {},
     "output_type": "display_data"
    },
    {
     "data": {
      "text/markdown": [
       "$dN_3/d\\xi = 1.0 \\xi + 0.5$"
      ],
      "text/plain": [
       "<IPython.core.display.Markdown object>"
      ]
     },
     "metadata": {},
     "output_type": "display_data"
    }
   ],
   "source": [
    "dN1_xi = diff(Na[0], xi)\n",
    "dN2_xi = diff(Na[1], xi)\n",
    "dN3_xi = diff(Na[2], xi)\n",
    "\n",
    "display( Markdown( r\"$dN_1/d\\xi = \"+ f\"{sympy.latex(dN1_xi)}$\" ))\n",
    "display( Markdown( r\"$dN_2/d\\xi = \"+ f\"{sympy.latex(dN2_xi)}$\" ))\n",
    "display( Markdown( r\"$dN_3/d\\xi = \"+ f\"{sympy.latex(dN3_xi)}$\" ))\n"
   ]
  },
  {
   "cell_type": "code",
   "execution_count": 4,
   "id": "c54ed425-1d41-43b4-96aa-a0d2276988e2",
   "metadata": {},
   "outputs": [
    {
     "data": {
      "text/markdown": [
       "$x(\\xi) = 0.5 \\xi + 0.5$"
      ],
      "text/plain": [
       "<IPython.core.display.Markdown object>"
      ]
     },
     "metadata": {},
     "output_type": "display_data"
    },
    {
     "data": {
      "text/markdown": [
       "$dx/d\\xi = 0.5$"
      ],
      "text/plain": [
       "<IPython.core.display.Markdown object>"
      ]
     },
     "metadata": {},
     "output_type": "display_data"
    },
    {
     "data": {
      "text/markdown": [
       "$d\\xi/dx = 2.0$"
      ],
      "text/plain": [
       "<IPython.core.display.Markdown object>"
      ]
     },
     "metadata": {},
     "output_type": "display_data"
    }
   ],
   "source": [
    "X = Na[1] * 0.5 + Na[2]\n",
    "X = simplify(X)\n",
    "dx_dxi = diff(X,xi)\n",
    "dxi_dx = 1/dx_dxi\n",
    "\n",
    "display( Markdown( r\"$x(\\xi) = \"+ f\"{sympy.latex(X)}$\"))\n",
    "display( Markdown( r\"$dx/d\\xi = \"+ f\"{sympy.latex(dx_dxi)}$\" ))\n",
    "display( Markdown( r\"$d\\xi/dx = \"+ f\"{sympy.latex(dxi_dx)}$\" ))\n"
   ]
  },
  {
   "cell_type": "code",
   "execution_count": 5,
   "id": "5c82a4bc-b95e-46ce-bf92-cbfbda826923",
   "metadata": {},
   "outputs": [
    {
     "data": {
      "text/markdown": [
       "$dN_1/dx = 2.0 \\xi - 1.0$"
      ],
      "text/plain": [
       "<IPython.core.display.Markdown object>"
      ]
     },
     "metadata": {},
     "output_type": "display_data"
    },
    {
     "data": {
      "text/markdown": [
       "$dN_2/dx = - 4.0 \\xi$"
      ],
      "text/plain": [
       "<IPython.core.display.Markdown object>"
      ]
     },
     "metadata": {},
     "output_type": "display_data"
    },
    {
     "data": {
      "text/markdown": [
       "$dN_3/dx = 2.0 \\xi + 1.0$"
      ],
      "text/plain": [
       "<IPython.core.display.Markdown object>"
      ]
     },
     "metadata": {},
     "output_type": "display_data"
    }
   ],
   "source": [
    "dN1_x = dN1_xi * dxi_dx \n",
    "dN2_x = dN2_xi * dxi_dx \n",
    "dN3_x = dN3_xi * dxi_dx \n",
    "\n",
    "display( Markdown( r\"$dN_1/dx = \"+ f\"{sympy.latex(dN1_x)}$\" ))\n",
    "display( Markdown( r\"$dN_2/dx = \"+ f\"{sympy.latex(dN2_x)}$\" ))\n",
    "display( Markdown( r\"$dN_3/dx = \"+ f\"{sympy.latex(dN3_x)}$\" ))\n"
   ]
  },
  {
   "cell_type": "code",
   "execution_count": 6,
   "id": "4047407d-1362-47f0-8b50-d0431e599d28",
   "metadata": {},
   "outputs": [],
   "source": [
    "def build_N_x( xi_ ) :\n",
    "    # Derivatives in X space\n",
    "    N1_x = dN1_xi.subs(xi, xi_) * dxi_dx\n",
    "    N2_x = dN2_xi.subs(xi, xi_) * dxi_dx\n",
    "    N3_x = dN3_xi.subs(xi, xi_) * dxi_dx\n",
    "    return N1_x, N2_x, N3_x\n",
    "\n",
    "db = [ d1, d2, d3 ]\n",
    "ne = [ 0, 0, 0 ]\n",
    "\n",
    "f = symbols(r'f_1 f_2 f_3', real=True)\n",
    "h = symbols(r'h', real=True)\n",
    "fe = [ 0, 0, 0 ]\n",
    "dna_ddb = zeros( 3, 3)\n",
    "fcol = []\n",
    "for xi_, W_ in zip( Xi, W ) :\n",
    "    Na_x_ = build_N_x(xi_)\n",
    "    x_ = X.subs(xi, xi_)\n",
    "    kappa_ = kappa.subs( xi, xi_ )\n",
    "    dkappa_du_ = dkappa_du.subs( xi, xi_ )\n",
    "    fcol.append(kappa_)\n",
    "    fcol.append(dkappa_du_)\n",
    "    Na_ = [0, 0, 0]\n",
    "    for a in range(3) : Na_[a] = simplify(Na[a].subs(xi, xi_))\n",
    "\n",
    "    q = 0\n",
    "    for b in range(3) : q += db[b] * Na_x_[b]\n",
    "    for a in range(3) :\n",
    "        ne[a] += W_ * dx_dxi * Na_x_[a] * q * kappa_\n",
    "        fe[a] += W_ * dx_dxi * Na_[a] * f[a]\n",
    "        fe[a] = simplify(fe[a])\n",
    "    \n",
    "    for a in range(3) :\n",
    "        for b in range(3) :\n",
    "            dna_ddb[a,b] += W_ * dx_dxi * Na_x_[a] * Na_[b] * q * dkappa_du_\n",
    "            dna_ddb[a,b] += W_ * dx_dxi * kappa_ * Na_x_[a] * Na_x_[b]\n",
    "            \n",
    "    fe[0] += W_ * h * Na_[0]\n",
    "    fe[0] = simplify(fe[0])\n",
    "    \n",
    "for a in range(3) :\n",
    "    ne[a] = cancel(ne[a])\n",
    "    for c in fcol : ne[a] = collect(ne[a],c)\n",
    "    for d in db : ne[a] = collect( ne[a], d )\n",
    "    ne[a] = simplify(ne[a],full=True)\n",
    "\n",
    "for a in range(3) :\n",
    "    fe[a] = nsimplify(fe[a])\n",
    "\n",
    "for a in range(3) :\n",
    "    for b in range(3) :\n",
    "        dna_ddb[a,b] = cancel(dna_ddb[a,b])\n",
    "        for c in fcol : dna_ddb[a,b] = collect(dna_ddb[a,b],c)\n",
    "        for d in db : dna_ddb[a,b] = collect( dna_ddb[a,b], d )\n",
    "        dna_ddb[a,b] = simplify(dna_ddb[a,b], full=True)\n"
   ]
  },
  {
   "cell_type": "code",
   "execution_count": 7,
   "id": "ac09d31d-be66-4e36-9155-3be8b112bad8",
   "metadata": {},
   "outputs": [
    {
     "data": {
      "text/markdown": [
       "$n_1^e(d^e) = \\left(d_{1} \\left(\\frac{7}{6} - \\frac{2 \\sqrt{3}}{3}\\right) - d_{2} \\left(\\frac{4}{3} - \\frac{2 \\sqrt{3}}{3}\\right) + \\frac{d_{3}}{6}\\right) K{\\left(\\frac{\\sqrt{3}}{3} \\right)} + \\left(d_{1} \\left(\\frac{2 \\sqrt{3}}{3} + \\frac{7}{6}\\right) - d_{2} \\left(\\frac{2 \\sqrt{3}}{3} + \\frac{4}{3}\\right) + \\frac{d_{3}}{6}\\right) K{\\left(- \\frac{\\sqrt{3}}{3} \\right)}$"
      ],
      "text/plain": [
       "<IPython.core.display.Markdown object>"
      ]
     },
     "metadata": {},
     "output_type": "display_data"
    },
    {
     "data": {
      "text/markdown": [
       "$n_2^e(d^e) = - \\left(d_{1} \\left(\\frac{4}{3} - \\frac{2 \\sqrt{3}}{3}\\right) - \\frac{8 d_{2}}{3} + d_{3} \\left(\\frac{2 \\sqrt{3}}{3} + \\frac{4}{3}\\right)\\right) K{\\left(\\frac{\\sqrt{3}}{3} \\right)} - \\left(d_{1} \\left(\\frac{2 \\sqrt{3}}{3} + \\frac{4}{3}\\right) - \\frac{8 d_{2}}{3} + d_{3} \\left(\\frac{4}{3} - \\frac{2 \\sqrt{3}}{3}\\right)\\right) K{\\left(- \\frac{\\sqrt{3}}{3} \\right)}$"
      ],
      "text/plain": [
       "<IPython.core.display.Markdown object>"
      ]
     },
     "metadata": {},
     "output_type": "display_data"
    },
    {
     "data": {
      "text/markdown": [
       "$n_3^e(d^e) = \\left(\\frac{d_{1}}{6} - d_{2} \\left(\\frac{4}{3} - \\frac{2 \\sqrt{3}}{3}\\right) + d_{3} \\left(\\frac{7}{6} - \\frac{2 \\sqrt{3}}{3}\\right)\\right) K{\\left(- \\frac{\\sqrt{3}}{3} \\right)} + \\left(\\frac{d_{1}}{6} - d_{2} \\left(\\frac{2 \\sqrt{3}}{3} + \\frac{4}{3}\\right) + d_{3} \\left(\\frac{2 \\sqrt{3}}{3} + \\frac{7}{6}\\right)\\right) K{\\left(\\frac{\\sqrt{3}}{3} \\right)}$"
      ],
      "text/plain": [
       "<IPython.core.display.Markdown object>"
      ]
     },
     "metadata": {},
     "output_type": "display_data"
    }
   ],
   "source": [
    "for a in range(3) :\n",
    "    display( Markdown( f\"$n_{a+1}^e(d^e) = {sympy.latex(rat(ne[a]))}$\" ))"
   ]
  },
  {
   "cell_type": "code",
   "execution_count": 8,
   "id": "c3d8b08b-520d-45e5-bb92-c344e5ff4ec5",
   "metadata": {},
   "outputs": [
    {
     "data": {
      "text/markdown": [
       "$f_1^e = \\frac{f_{1}}{6} + \\frac{h}{3}$"
      ],
      "text/plain": [
       "<IPython.core.display.Markdown object>"
      ]
     },
     "metadata": {},
     "output_type": "display_data"
    },
    {
     "data": {
      "text/markdown": [
       "$f_2^e = \\frac{2 f_{2}}{3}$"
      ],
      "text/plain": [
       "<IPython.core.display.Markdown object>"
      ]
     },
     "metadata": {},
     "output_type": "display_data"
    },
    {
     "data": {
      "text/markdown": [
       "$f_3^e = \\frac{f_{3}}{6}$"
      ],
      "text/plain": [
       "<IPython.core.display.Markdown object>"
      ]
     },
     "metadata": {},
     "output_type": "display_data"
    }
   ],
   "source": [
    "for a in range(3) :\n",
    "    display( Markdown( f\"$f_{a+1}^e = {sympy.latex(rat(fe[a]))}$\" ))"
   ]
  },
  {
   "cell_type": "code",
   "execution_count": 9,
   "id": "2ebd3a2c-e9f3-4ce9-a293-2b1ad7c79700",
   "metadata": {},
   "outputs": [
    {
     "data": {
      "text/markdown": [
       "$\\frac{\\partial n_1^e}{\\partial d_1^e} $ =$\\left(d_{1} \\left(\\frac{19}{36} - \\frac{11 \\sqrt{3}}{36}\\right) - d_{2} \\left(\\frac{5}{9} - \\frac{\\sqrt{3}}{3}\\right) + \\frac{d_{3} \\left(1 - \\sqrt{3}\\right)}{36}\\right) K_{,u}{\\left(\\frac{\\sqrt{3}}{3} \\right)} + \\left(d_{1} \\left(\\frac{19}{36} + \\frac{11 \\sqrt{3}}{36}\\right) - d_{2} \\left(\\frac{5}{9} + \\frac{\\sqrt{3}}{3}\\right) + \\frac{d_{3} \\left(1 + \\sqrt{3}\\right)}{36}\\right) K_{,u}{\\left(- \\frac{\\sqrt{3}}{3} \\right)} + \\left(\\frac{2 \\sqrt{3}}{3} + \\frac{7}{6}\\right) K{\\left(- \\frac{\\sqrt{3}}{3} \\right)} + \\left(\\frac{7}{6} - \\frac{2 \\sqrt{3}}{3}\\right) K{\\left(\\frac{\\sqrt{3}}{3} \\right)}$"
      ],
      "text/plain": [
       "<IPython.core.display.Markdown object>"
      ]
     },
     "metadata": {},
     "output_type": "display_data"
    },
    {
     "data": {
      "text/markdown": [
       "$\\frac{\\partial n_1^e}{\\partial d_2^e} $ =$\\left(d_{1} \\left(\\frac{7}{9} - \\frac{4 \\sqrt{3}}{9}\\right) - d_{2} \\left(\\frac{8}{9} - \\frac{4 \\sqrt{3}}{9}\\right) + \\frac{d_{3}}{9}\\right) K_{,u}{\\left(\\frac{\\sqrt{3}}{3} \\right)} + \\left(d_{1} \\left(\\frac{4 \\sqrt{3}}{9} + \\frac{7}{9}\\right) - d_{2} \\left(\\frac{4 \\sqrt{3}}{9} + \\frac{8}{9}\\right) + \\frac{d_{3}}{9}\\right) K_{,u}{\\left(- \\frac{\\sqrt{3}}{3} \\right)} - \\left(\\frac{2 \\sqrt{3}}{3} + \\frac{4}{3}\\right) K{\\left(- \\frac{\\sqrt{3}}{3} \\right)} - \\left(\\frac{4}{3} - \\frac{2 \\sqrt{3}}{3}\\right) K{\\left(\\frac{\\sqrt{3}}{3} \\right)}$"
      ],
      "text/plain": [
       "<IPython.core.display.Markdown object>"
      ]
     },
     "metadata": {},
     "output_type": "display_data"
    },
    {
     "data": {
      "text/markdown": [
       "$\\frac{\\partial n_1^e}{\\partial d_3^e} $ =$\\left(- d_{1} \\left(\\frac{5}{36} - \\frac{\\sqrt{3}}{12}\\right) + d_{2} \\left(\\frac{1}{9} - \\frac{\\sqrt{3}}{9}\\right) + \\frac{d_{3} \\left(1 + \\sqrt{3}\\right)}{36}\\right) K_{,u}{\\left(\\frac{\\sqrt{3}}{3} \\right)} + \\left(- d_{1} \\left(\\frac{5}{36} + \\frac{\\sqrt{3}}{12}\\right) + d_{2} \\left(\\frac{1}{9} + \\frac{\\sqrt{3}}{9}\\right) + \\frac{d_{3} \\left(1 - \\sqrt{3}\\right)}{36}\\right) K_{,u}{\\left(- \\frac{\\sqrt{3}}{3} \\right)} + \\frac{K{\\left(- \\frac{\\sqrt{3}}{3} \\right)}}{6} + \\frac{K{\\left(\\frac{\\sqrt{3}}{3} \\right)}}{6}$"
      ],
      "text/plain": [
       "<IPython.core.display.Markdown object>"
      ]
     },
     "metadata": {},
     "output_type": "display_data"
    },
    {
     "name": "stdout",
     "output_type": "stream",
     "text": [
      "\n",
      "\n",
      "\n"
     ]
    },
    {
     "data": {
      "text/markdown": [
       "$\\frac{\\partial n_2^e}{\\partial d_1^e} $ =$\\left(- d_{1} \\left(\\frac{5}{9} - \\frac{\\sqrt{3}}{3}\\right) + \\frac{4 d_{2} \\left(1 - \\sqrt{3}\\right)}{9} + d_{3} \\left(\\frac{1}{9} + \\frac{\\sqrt{3}}{9}\\right)\\right) K_{,u}{\\left(\\frac{\\sqrt{3}}{3} \\right)} + \\left(- d_{1} \\left(\\frac{5}{9} + \\frac{\\sqrt{3}}{3}\\right) + \\frac{4 d_{2} \\left(1 + \\sqrt{3}\\right)}{9} + d_{3} \\left(\\frac{1}{9} - \\frac{\\sqrt{3}}{9}\\right)\\right) K_{,u}{\\left(- \\frac{\\sqrt{3}}{3} \\right)} - \\left(\\frac{2 \\sqrt{3}}{3} + \\frac{4}{3}\\right) K{\\left(- \\frac{\\sqrt{3}}{3} \\right)} - \\left(\\frac{4}{3} - \\frac{2 \\sqrt{3}}{3}\\right) K{\\left(\\frac{\\sqrt{3}}{3} \\right)}$"
      ],
      "text/plain": [
       "<IPython.core.display.Markdown object>"
      ]
     },
     "metadata": {},
     "output_type": "display_data"
    },
    {
     "data": {
      "text/markdown": [
       "$\\frac{\\partial n_2^e}{\\partial d_2^e} $ =$- \\left(d_{1} \\left(\\frac{8}{9} - \\frac{4 \\sqrt{3}}{9}\\right) - \\frac{16 d_{2}}{9} + d_{3} \\left(\\frac{4 \\sqrt{3}}{9} + \\frac{8}{9}\\right)\\right) K_{,u}{\\left(\\frac{\\sqrt{3}}{3} \\right)} - \\left(d_{1} \\left(\\frac{4 \\sqrt{3}}{9} + \\frac{8}{9}\\right) - \\frac{16 d_{2}}{9} + d_{3} \\left(\\frac{8}{9} - \\frac{4 \\sqrt{3}}{9}\\right)\\right) K_{,u}{\\left(- \\frac{\\sqrt{3}}{3} \\right)} + \\frac{8 K{\\left(- \\frac{\\sqrt{3}}{3} \\right)}}{3} + \\frac{8 K{\\left(\\frac{\\sqrt{3}}{3} \\right)}}{3}$"
      ],
      "text/plain": [
       "<IPython.core.display.Markdown object>"
      ]
     },
     "metadata": {},
     "output_type": "display_data"
    },
    {
     "data": {
      "text/markdown": [
       "$\\frac{\\partial n_2^e}{\\partial d_3^e} $ =$\\left(d_{1} \\left(\\frac{1}{9} - \\frac{\\sqrt{3}}{9}\\right) + \\frac{4 d_{2} \\left(1 + \\sqrt{3}\\right)}{9} - d_{3} \\left(\\frac{5}{9} + \\frac{\\sqrt{3}}{3}\\right)\\right) K_{,u}{\\left(\\frac{\\sqrt{3}}{3} \\right)} + \\left(d_{1} \\left(\\frac{1}{9} + \\frac{\\sqrt{3}}{9}\\right) + \\frac{4 d_{2} \\left(1 - \\sqrt{3}\\right)}{9} - d_{3} \\left(\\frac{5}{9} - \\frac{\\sqrt{3}}{3}\\right)\\right) K_{,u}{\\left(- \\frac{\\sqrt{3}}{3} \\right)} - \\left(\\frac{4}{3} - \\frac{2 \\sqrt{3}}{3}\\right) K{\\left(- \\frac{\\sqrt{3}}{3} \\right)} - \\left(\\frac{2 \\sqrt{3}}{3} + \\frac{4}{3}\\right) K{\\left(\\frac{\\sqrt{3}}{3} \\right)}$"
      ],
      "text/plain": [
       "<IPython.core.display.Markdown object>"
      ]
     },
     "metadata": {},
     "output_type": "display_data"
    },
    {
     "name": "stdout",
     "output_type": "stream",
     "text": [
      "\n",
      "\n",
      "\n"
     ]
    },
    {
     "data": {
      "text/markdown": [
       "$\\frac{\\partial n_3^e}{\\partial d_1^e} $ =$\\left(\\frac{d_{1} \\left(1 - \\sqrt{3}\\right)}{36} + d_{2} \\left(\\frac{1}{9} + \\frac{\\sqrt{3}}{9}\\right) - d_{3} \\left(\\frac{5}{36} + \\frac{\\sqrt{3}}{12}\\right)\\right) K_{,u}{\\left(\\frac{\\sqrt{3}}{3} \\right)} + \\left(\\frac{d_{1} \\left(1 + \\sqrt{3}\\right)}{36} + d_{2} \\left(\\frac{1}{9} - \\frac{\\sqrt{3}}{9}\\right) - d_{3} \\left(\\frac{5}{36} - \\frac{\\sqrt{3}}{12}\\right)\\right) K_{,u}{\\left(- \\frac{\\sqrt{3}}{3} \\right)} + \\frac{K{\\left(- \\frac{\\sqrt{3}}{3} \\right)}}{6} + \\frac{K{\\left(\\frac{\\sqrt{3}}{3} \\right)}}{6}$"
      ],
      "text/plain": [
       "<IPython.core.display.Markdown object>"
      ]
     },
     "metadata": {},
     "output_type": "display_data"
    },
    {
     "data": {
      "text/markdown": [
       "$\\frac{\\partial n_3^e}{\\partial d_2^e} $ =$\\left(\\frac{d_{1}}{9} - d_{2} \\left(\\frac{8}{9} - \\frac{4 \\sqrt{3}}{9}\\right) + d_{3} \\left(\\frac{7}{9} - \\frac{4 \\sqrt{3}}{9}\\right)\\right) K_{,u}{\\left(- \\frac{\\sqrt{3}}{3} \\right)} + \\left(\\frac{d_{1}}{9} - d_{2} \\left(\\frac{4 \\sqrt{3}}{9} + \\frac{8}{9}\\right) + d_{3} \\left(\\frac{4 \\sqrt{3}}{9} + \\frac{7}{9}\\right)\\right) K_{,u}{\\left(\\frac{\\sqrt{3}}{3} \\right)} - \\left(\\frac{4}{3} - \\frac{2 \\sqrt{3}}{3}\\right) K{\\left(- \\frac{\\sqrt{3}}{3} \\right)} - \\left(\\frac{2 \\sqrt{3}}{3} + \\frac{4}{3}\\right) K{\\left(\\frac{\\sqrt{3}}{3} \\right)}$"
      ],
      "text/plain": [
       "<IPython.core.display.Markdown object>"
      ]
     },
     "metadata": {},
     "output_type": "display_data"
    },
    {
     "data": {
      "text/markdown": [
       "$\\frac{\\partial n_3^e}{\\partial d_3^e} $ =$\\left(\\frac{d_{1} \\left(1 - \\sqrt{3}\\right)}{36} - d_{2} \\left(\\frac{5}{9} - \\frac{\\sqrt{3}}{3}\\right) + d_{3} \\left(\\frac{19}{36} - \\frac{11 \\sqrt{3}}{36}\\right)\\right) K_{,u}{\\left(- \\frac{\\sqrt{3}}{3} \\right)} + \\left(\\frac{d_{1} \\left(1 + \\sqrt{3}\\right)}{36} - d_{2} \\left(\\frac{5}{9} + \\frac{\\sqrt{3}}{3}\\right) + d_{3} \\left(\\frac{19}{36} + \\frac{11 \\sqrt{3}}{36}\\right)\\right) K_{,u}{\\left(\\frac{\\sqrt{3}}{3} \\right)} + \\left(\\frac{7}{6} - \\frac{2 \\sqrt{3}}{3}\\right) K{\\left(- \\frac{\\sqrt{3}}{3} \\right)} + \\left(\\frac{2 \\sqrt{3}}{3} + \\frac{7}{6}\\right) K{\\left(\\frac{\\sqrt{3}}{3} \\right)}$"
      ],
      "text/plain": [
       "<IPython.core.display.Markdown object>"
      ]
     },
     "metadata": {},
     "output_type": "display_data"
    },
    {
     "name": "stdout",
     "output_type": "stream",
     "text": [
      "\n",
      "\n",
      "\n"
     ]
    }
   ],
   "source": [
    "for a in range(3) :\n",
    "    for b in range(3) :      \n",
    "        display( Markdown( r\"$\\frac{\\partial n_\"+f\"{a+1}\"+r\"^e}{\\partial d_\"+f\"{b+1}\"+r\"^e} $ =\"+ f\"${sympy.latex(rat(dna_ddb[a,b]))}$\" ))\n",
    "    print(\"\\n\\n\")"
   ]
  },
  {
   "cell_type": "code",
   "execution_count": null,
   "id": "aa36c60f-531f-4e6e-87e5-af35a2572d98",
   "metadata": {},
   "outputs": [],
   "source": []
  }
 ],
 "metadata": {
  "kernelspec": {
   "display_name": "Python 3 (ipykernel)",
   "language": "python",
   "name": "python3"
  },
  "language_info": {
   "codemirror_mode": {
    "name": "ipython",
    "version": 3
   },
   "file_extension": ".py",
   "mimetype": "text/x-python",
   "name": "python",
   "nbconvert_exporter": "python",
   "pygments_lexer": "ipython3",
   "version": "3.12.5"
  }
 },
 "nbformat": 4,
 "nbformat_minor": 5
}
