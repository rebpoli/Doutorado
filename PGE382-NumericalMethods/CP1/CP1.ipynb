{
 "cells": [
  {
   "cell_type": "markdown",
   "id": "4280244f-b890-436d-9514-e1dc549e5333",
   "metadata": {},
   "source": [
    "### a) Evaluate a sin with an infinite series"
   ]
  },
  {
   "cell_type": "code",
   "execution_count": 50,
   "id": "17e6d0f6-c9f2-4cff-b010-0e4dc5c55e9a",
   "metadata": {},
   "outputs": [
    {
     "name": "stdout",
     "output_type": "stream",
     "text": [
      "EXPONENT  SIN                           ERROR(%)\n",
      "--------------------------------------------------\n",
      "1         1.50000000000000000000        -5.03767e+01        \n",
      "3         0.93750000000000000000        6.01457e+00         \n",
      "5         1.00078124999999995559        -3.29452e-01        \n",
      "7         0.99739118303571427937        1.04064e-02         \n",
      "9         0.99749712262834822063        -2.14139e-04        \n",
      "11        0.99749495568213530916        3.09996e-06         \n",
      "13        0.99749498693616722722        -3.32947e-08        \n",
      "15        0.99749498660130264671        2.75871e-10         \n",
      "--------------------------------------------------\n",
      "EXACT:    0.99749498660405444550\n"
     ]
    }
   ],
   "source": [
    "from math import factorial, pi, sin\n",
    "import numpy as np\n",
    "\n",
    "x = 1.5\n",
    "TRUESIN = sin(x)\n",
    "SIN = 0\n",
    "sign = 1\n",
    "\n",
    "print (f\"{'EXPONENT':10}{'SIN':<30}{'ERROR(%)'}\")\n",
    "print (50*'-')\n",
    "for i in (2*np.arange( 8 )+1) :\n",
    "    SIN = SIN + sign * x**i / factorial( i )\n",
    "    ERR = ( TRUESIN - SIN ) / TRUESIN * 100\n",
    "    sign = - sign\n",
    "    print (f\"{i:<10d}{SIN:<30.20f}{ERR:<20.5e}\")\n",
    "print (50*'-')\n",
    "print(f\"{'EXACT:':<10}{TRUESIN:<20.20F}\")\n"
   ]
  },
  {
   "cell_type": "markdown",
   "id": "f1691b7e-7b31-4e38-85cd-227b21d348bf",
   "metadata": {},
   "source": [
    "### b) Piecewise functions"
   ]
  },
  {
   "cell_type": "code",
   "execution_count": 97,
   "id": "8f6ef53e-c00b-45c6-841f-f25a433b55d6",
   "metadata": {},
   "outputs": [
    {
     "data": {
      "text/plain": [
       "(0.0, 1750.0)"
      ]
     },
     "execution_count": 97,
     "metadata": {},
     "output_type": "execute_result"
    },
    {
     "data": {
      "image/png": "[encoded data removed]",
      "text/plain": [
       "<Figure size 720x432 with 1 Axes>"
      ]
     },
     "metadata": {
      "needs_background": "light"
     },
     "output_type": "display_data"
    }
   ],
   "source": [
    "from numpy import exp, linspace, vectorize\n",
    "import matplotlib.pyplot as plt\n",
    "\n",
    "plt.style.use('paper.mplstyle')\n",
    "\n",
    "def foo_v(t) :\n",
    "    if t < 0   : return 0\n",
    "    if t <= 10 : return 11*t**2-5*t\n",
    "    if t <= 20 : return 1100 - 5*t\n",
    "    if t <= 30 : return 50*t + 2*(t-20)**2\n",
    "    return 1520 * exp(-0.2 * (t-30) )\n",
    "\n",
    "X = linspace( -5, 50, 200 )\n",
    "Y = vectorize(foo_v)(X)\n",
    "\n",
    "plt.figure(figsize=(10,6))\n",
    "plt.scatter( X, Y, marker='x', s=10, lw=1, c='k' )\n",
    "plt.xlabel(\"$t$\")\n",
    "plt.ylabel(\"$v$\")\n",
    "plt.xlim( -5, 50)\n",
    "plt.ylim( 0, 1750)\n"
   ]
  },
  {
   "cell_type": "markdown",
   "id": "96843e3b-9205-45ca-b314-3d91a98b7bb7",
   "metadata": {},
   "source": [
    "### c) Distances and $tan^{-1}$"
   ]
  },
  {
   "cell_type": "code",
   "execution_count": 149,
   "id": "90f5067e-aaf7-4a7d-92a7-8f8967627bc5",
   "metadata": {},
   "outputs": [
    {
     "name": "stdout",
     "output_type": "stream",
     "text": [
      " x                   y               theta           r                   \n",
      "--------------------------------------------------------------------------------\n",
      " 1                   0                 0.0           1.0000000\n",
      " 1                   1                45.0           1.4142136\n",
      " 0                   1                90.0           1.0000000\n",
      "-1                   1               135.0           1.4142136\n",
      "-1                   0               180.0           1.0000000\n",
      "-1                  -1              -135.0           1.4142136\n",
      " 0                   0                 0.0           0.0000000\n",
      " 0                  -1               -90.0           1.0000000\n",
      " 1                  -1               -45.0           1.4142136\n",
      "--------------------------------------------------------------------------------\n"
     ]
    }
   ],
   "source": [
    "from numpy import arctan, pi, arctan, sqrt\n",
    "\n",
    "def ATAN(x,y) :\n",
    "    if x<0 :\n",
    "        if y > 0  : return arctan( y/x ) + pi\n",
    "        if y < 0  : return arctan( y/x ) - pi\n",
    "        if y == 0 : return pi\n",
    "    if x==0 :\n",
    "        if y > 0  : return pi/2\n",
    "        if y < 0  : return -pi/2\n",
    "        if y == 0 : return 0\n",
    "    return arctan( y / x )\n",
    "\n",
    "def RT(x,y) :\n",
    "    r = sqrt( x**2 + y**2 )\n",
    "    return r, ATAN(x,y)\n",
    "\n",
    "XY = [[1,0],[1,1],[0,1],[-1,1],[-1,0],[-1,-1],[0,0],[0,-1],[1,-1]]\n",
    "\n",
    "print(f\" {'x':<20}{'y':<16}{'theta':<16}{'r':<20}\")\n",
    "print(80*'-')\n",
    "for x,y in XY :\n",
    "    R,T=RT(x,y)\n",
    "    print(f\"{x:>2}{y:>20}{T*180/pi:>20.1f}{R:>20.7f}\")\n",
    "print(80*'-')\n",
    "    "
   ]
  }
 ],
 "metadata": {
  "kernelspec": {
   "display_name": "Python 3",
   "language": "python",
   "name": "python3"
  },
  "language_info": {
   "codemirror_mode": {
    "name": "ipython",
    "version": 3
   },
   "file_extension": ".py",
   "mimetype": "text/x-python",
   "name": "python",
   "nbconvert_exporter": "python",
   "pygments_lexer": "ipython3",
   "version": "3.9.7"
  }
 },
 "nbformat": 4,
 "nbformat_minor": 5
}
