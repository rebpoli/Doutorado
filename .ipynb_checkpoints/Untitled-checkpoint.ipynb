{
 "cells": [
  {
   "cell_type": "code",
   "execution_count": 5,
   "id": "abaf5fc5-2ebe-4113-b7a8-5622258e618c",
   "metadata": {},
   "outputs": [],
   "source": [
    "import numpy as np\n",
    "from numpy import log as ln"
   ]
  },
  {
   "cell_type": "code",
   "execution_count": 13,
   "id": "dee48bc0-cbef-40c0-813f-110b4d7cef72",
   "metadata": {},
   "outputs": [],
   "source": [
    "a=(ln(1000)-ln(.3))\n",
    "b=(ln(1.3)-ln(.3))/5\n",
    "c=(ln(1000)-ln(1.3))/40\n",
    "\n",
    "k=a / (b + c)"
   ]
  },
  {
   "cell_type": "code",
   "execution_count": 15,
   "id": "39683fb5-2c44-4dd1-8227-43095b91feed",
   "metadata": {},
   "outputs": [
    {
     "data": {
      "text/plain": [
       "377.6924707458131"
      ]
     },
     "execution_count": 15,
     "metadata": {},
     "output_type": "execute_result"
    }
   ],
   "source": [
    "1/141.2*k*35*(5000-2200)/4/ln(1000/.3)\n"
   ]
  },
  {
   "cell_type": "code",
   "execution_count": 23,
   "id": "81775baf-0214-46d0-81d2-d2ca95f00321",
   "metadata": {},
   "outputs": [
    {
     "data": {
      "text/plain": [
       "[<matplotlib.lines.Line2D at 0x200cdd0b460>]"
      ]
     },
     "execution_count": 23,
     "metadata": {},
     "output_type": "execute_result"
    },
    {
     "data": {
      "image/png": "[encoded data removed]",
      "text/plain": [
       "<Figure size 432x288 with 1 Axes>"
      ]
     },
     "metadata": {
      "needs_background": "light"
     },
     "output_type": "display_data"
    }
   ],
   "source": [
    "import pandas as pd\n",
    "\n",
    "df = pd.DataFrame(\n",
    "    { 't': [0,100,500,1000,2000,3000,4000,5000],\n",
    "      'h': [100, 96.1, 82, 67,45, 30, 20, 13.5]\n",
    "    })\n",
    "\n",
    "df['lnh'] = ln(df.h/100)\n",
    "\n",
    "import matplotlib.pyplot as plt\n",
    "plt.plot(df.t, df.lnh)\n",
    "\n",
    "from "
   ]
  }
 ],
 "metadata": {
  "kernelspec": {
   "display_name": "Python 3",
   "language": "python",
   "name": "python3"
  },
  "language_info": {
   "codemirror_mode": {
    "name": "ipython",
    "version": 3
   },
   "file_extension": ".py",
   "mimetype": "text/x-python",
   "name": "python",
   "nbconvert_exporter": "python",
   "pygments_lexer": "ipython3",
   "version": "3.9.7"
  }
 },
 "nbformat": 4,
 "nbformat_minor": 5
}
